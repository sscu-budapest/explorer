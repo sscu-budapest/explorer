{
 "cells": [
  {
   "cell_type": "markdown",
   "id": "b79686c9",
   "metadata": {},
   "source": [
    "# First look at stats of pages"
   ]
  },
  {
   "cell_type": "code",
   "execution_count": null,
   "id": "116035f1",
   "metadata": {},
   "outputs": [],
   "source": [
    "import pandas as pd\n",
    "from itertools import product"
   ]
  },
  {
   "cell_type": "code",
   "execution_count": null,
   "id": "76f0f59f",
   "metadata": {},
   "outputs": [],
   "source": [
    "df_post_export = pd.read_csv(\"post_export.csv\")"
   ]
  },
  {
   "cell_type": "code",
   "execution_count": null,
   "id": "a68d840e",
   "metadata": {
    "scrolled": false
   },
   "outputs": [],
   "source": [
    "df_post_export.groupby(\"page_name\").agg(\n",
    "    **{\n",
    "        \"Page likes\": pd.NamedAgg(\"page_likes\", \"first\"),\n",
    "        \"Page followers\": pd.NamedAgg(\"page_followers\", \"first\"),\n",
    "        \"First post\": pd.NamedAgg(\"posted\", \"min\"),\n",
    "        \"Post count\": pd.NamedAgg(\"link\", \"count\"),\n",
    "        **{\n",
    "            f\"{agg.title()} post {k}\": pd.NamedAgg(k, agg)\n",
    "            for k, agg in product([\"reactions\", \"comments\", \"shares\"], [\"mean\", \"median\"])\n",
    "        },\n",
    "    }\n",
    ").style.background_gradient(axis=0,).set_caption(\"Stats of pages\")"
   ]
  }
 ],
 "metadata": {
  "kernelspec": {
   "display_name": "Python 3 (ipykernel)",
   "language": "python",
   "name": "python3"
  },
  "language_info": {
   "codemirror_mode": {
    "name": "ipython",
    "version": 3
   },
   "file_extension": ".py",
   "mimetype": "text/x-python",
   "name": "python",
   "nbconvert_exporter": "python",
   "pygments_lexer": "ipython3",
   "version": "3.8.10"
  }
 },
 "nbformat": 4,
 "nbformat_minor": 5
}
