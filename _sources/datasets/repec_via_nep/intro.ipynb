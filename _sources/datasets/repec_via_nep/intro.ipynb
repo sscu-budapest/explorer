{
 "cells": [
  {
   "cell_type": "markdown",
   "id": "greater-sweden",
   "metadata": {},
   "source": [
    "# Papers Analysis\n"
   ]
  },
  {
   "cell_type": "code",
   "execution_count": 1,
   "id": "weighted-boost",
   "metadata": {
    "execution": {
     "iopub.execute_input": "2022-07-29T15:19:06.055753Z",
     "iopub.status.busy": "2022-07-29T15:19:06.055107Z",
     "iopub.status.idle": "2022-07-29T15:19:06.831182Z",
     "shell.execute_reply": "2022-07-29T15:19:06.830252Z"
    }
   },
   "outputs": [],
   "source": [
    "import pandas as pd\n",
    "import seaborn as sns\n",
    "import matplotlib.pyplot as plt"
   ]
  },
  {
   "cell_type": "markdown",
   "id": "66b4b709",
   "metadata": {},
   "source": [
    "Setting `matplotlib` parameters\n"
   ]
  },
  {
   "cell_type": "code",
   "execution_count": 2,
   "id": "b15c0990",
   "metadata": {
    "execution": {
     "iopub.execute_input": "2022-07-29T15:19:06.835544Z",
     "iopub.status.busy": "2022-07-29T15:19:06.834805Z",
     "iopub.status.idle": "2022-07-29T15:19:06.842007Z",
     "shell.execute_reply": "2022-07-29T15:19:06.841089Z"
    }
   },
   "outputs": [],
   "source": [
    "plt.rcParams[\"figure.figsize\"] = [12, 6]"
   ]
  },
  {
   "cell_type": "markdown",
   "id": "03fd31fa",
   "metadata": {},
   "source": [
    "Read the data\n"
   ]
  },
  {
   "cell_type": "code",
   "execution_count": 3,
   "id": "liberal-paper",
   "metadata": {
    "execution": {
     "iopub.execute_input": "2022-07-29T15:19:06.846037Z",
     "iopub.status.busy": "2022-07-29T15:19:06.845495Z",
     "iopub.status.idle": "2022-07-29T15:19:11.080383Z",
     "shell.execute_reply": "2022-07-29T15:19:11.079560Z"
    }
   },
   "outputs": [
    {
     "name": "stderr",
     "output_type": "stream",
     "text": [
      "/opt/hostedtoolcache/Python/3.10.5/x64/lib/python3.10/site-packages/IPython/core/interactiveshell.py:3398: DtypeWarning: Columns (1,2,3,4) have mixed types.Specify dtype option on import or set low_memory=False.\n",
      "  exec(code_obj, self.user_global_ns, self.user_ns)\n"
     ]
    }
   ],
   "source": [
    "df_paper = pd.read_csv(\"paper.csv\")\n",
    "df_nep = pd.read_csv(\"nep.csv\")\n",
    "df_nep_inclusion = pd.read_csv(\"nep_inclusion.csv\")\n",
    "df_nep_issue = pd.read_csv(\"nep_issue.csv\")\n",
    "df_authorship = pd.read_csv(\"authorship.csv\")"
   ]
  },
  {
   "cell_type": "code",
   "execution_count": 4,
   "id": "261ab6a9",
   "metadata": {
    "execution": {
     "iopub.execute_input": "2022-07-29T15:19:11.084706Z",
     "iopub.status.busy": "2022-07-29T15:19:11.084122Z",
     "iopub.status.idle": "2022-07-29T15:19:11.478928Z",
     "shell.execute_reply": "2022-07-29T15:19:11.478098Z"
    }
   },
   "outputs": [
    {
     "data": {
      "image/png": "[encoded data removed]",
      "text/plain": [
       "<Figure size 864x432 with 1 Axes>"
      ]
     },
     "metadata": {
      "needs_background": "light"
     },
     "output_type": "display_data"
    }
   ],
   "source": [
    "min_year = 2000\n",
    "max_year = 2021\n",
    "sns.histplot(data = df_paper.year[df_paper.year.between(min_year, max_year)], discrete = 1)\n",
    "plt.title(\"Research papers by year\")\n",
    "plt.xlabel(\"Year\")\n",
    "plt.xticks(range(min_year, max_year + 1, 1), rotation = 45)\n",
    "plt.show()"
   ]
  },
  {
   "cell_type": "code",
   "execution_count": 5,
   "id": "fa09ce8d",
   "metadata": {
    "execution": {
     "iopub.execute_input": "2022-07-29T15:19:11.483831Z",
     "iopub.status.busy": "2022-07-29T15:19:11.482943Z",
     "iopub.status.idle": "2022-07-29T15:19:11.753895Z",
     "shell.execute_reply": "2022-07-29T15:19:11.753072Z"
    }
   },
   "outputs": [
    {
     "data": {
      "text/html": [
       "<style type=\"text/css\">\n",
       "</style>\n",
       "<table id=\"T_f01c4_\">\n",
       "  <caption>Top 10 institutions by published papers</caption>\n",
       "  <thead>\n",
       "    <tr>\n",
       "      <th class=\"blank level0\" >&nbsp;</th>\n",
       "      <th class=\"col_heading level0 col0\" >count</th>\n",
       "    </tr>\n",
       "    <tr>\n",
       "      <th class=\"index_name level0\" >institution</th>\n",
       "      <th class=\"blank col0\" >&nbsp;</th>\n",
       "    </tr>\n",
       "  </thead>\n",
       "  <tbody>\n",
       "    <tr>\n",
       "      <th id=\"T_f01c4_level0_row0\" class=\"row_heading level0 row0\" >University Library of Munich, Germany</th>\n",
       "      <td id=\"T_f01c4_row0_col0\" class=\"data row0 col0\" >30327</td>\n",
       "    </tr>\n",
       "    <tr>\n",
       "      <th id=\"T_f01c4_level0_row1\" class=\"row_heading level0 row1\" >National Bureau of Economic Research, Inc</th>\n",
       "      <td id=\"T_f01c4_row1_col0\" class=\"data row1 col0\" >20084</td>\n",
       "    </tr>\n",
       "    <tr>\n",
       "      <th id=\"T_f01c4_level0_row2\" class=\"row_heading level0 row2\" >Institute of Labor Economics (IZA)</th>\n",
       "      <td id=\"T_f01c4_row2_col0\" class=\"data row2 col0\" >14269</td>\n",
       "    </tr>\n",
       "    <tr>\n",
       "      <th id=\"T_f01c4_level0_row3\" class=\"row_heading level0 row3\" >HAL</th>\n",
       "      <td id=\"T_f01c4_row3_col0\" class=\"data row3 col0\" >11720</td>\n",
       "    </tr>\n",
       "    <tr>\n",
       "      <th id=\"T_f01c4_level0_row4\" class=\"row_heading level0 row4\" >C.E.P.R. Discussion Papers</th>\n",
       "      <td id=\"T_f01c4_row4_col0\" class=\"data row4 col0\" >10720</td>\n",
       "    </tr>\n",
       "    <tr>\n",
       "      <th id=\"T_f01c4_level0_row5\" class=\"row_heading level0 row5\" >arXiv.org</th>\n",
       "      <td id=\"T_f01c4_row5_col0\" class=\"data row5 col0\" >9496</td>\n",
       "    </tr>\n",
       "    <tr>\n",
       "      <th id=\"T_f01c4_level0_row6\" class=\"row_heading level0 row6\" >Agricultural and Applied Economics Association</th>\n",
       "      <td id=\"T_f01c4_row6_col0\" class=\"data row6 col0\" >5120</td>\n",
       "    </tr>\n",
       "    <tr>\n",
       "      <th id=\"T_f01c4_level0_row7\" class=\"row_heading level0 row7\" >The World Bank</th>\n",
       "      <td id=\"T_f01c4_row7_col0\" class=\"data row7 col0\" >4690</td>\n",
       "    </tr>\n",
       "    <tr>\n",
       "      <th id=\"T_f01c4_level0_row8\" class=\"row_heading level0 row8\" >CESifo</th>\n",
       "      <td id=\"T_f01c4_row8_col0\" class=\"data row8 col0\" >4196</td>\n",
       "    </tr>\n",
       "    <tr>\n",
       "      <th id=\"T_f01c4_level0_row9\" class=\"row_heading level0 row9\" >OECD Publishing</th>\n",
       "      <td id=\"T_f01c4_row9_col0\" class=\"data row9 col0\" >3881</td>\n",
       "    </tr>\n",
       "  </tbody>\n",
       "</table>\n"
      ],
      "text/plain": [
       "<pandas.io.formats.style.Styler at 0x7f3eace6f580>"
      ]
     },
     "execution_count": 5,
     "metadata": {},
     "output_type": "execute_result"
    }
   ],
   "source": [
    "(pd.DataFrame(df_paper.groupby('institution')\n",
    ".count()\n",
    ".title.sort_values(ascending = False))\n",
    ".rename(columns={'title': 'count'})\n",
    ".head(10)\n",
    ".style.set_caption(\"Top 10 institutions by published papers\")\n",
    ")"
   ]
  },
  {
   "cell_type": "code",
   "execution_count": 6,
   "id": "6182be59",
   "metadata": {
    "execution": {
     "iopub.execute_input": "2022-07-29T15:19:11.758111Z",
     "iopub.status.busy": "2022-07-29T15:19:11.757398Z",
     "iopub.status.idle": "2022-07-29T15:19:13.292868Z",
     "shell.execute_reply": "2022-07-29T15:19:13.292090Z"
    }
   },
   "outputs": [],
   "source": [
    "df_pa = df_paper.merge(df_authorship, left_on='pid', right_on='paper__pid', how='left')\n",
    "df_pa.author__aid = df_pa.author__aid.str.replace(':', ' ').str.title()"
   ]
  },
  {
   "cell_type": "code",
   "execution_count": 7,
   "id": "619c448e",
   "metadata": {
    "execution": {
     "iopub.execute_input": "2022-07-29T15:19:13.296925Z",
     "iopub.status.busy": "2022-07-29T15:19:13.296201Z",
     "iopub.status.idle": "2022-07-29T15:19:14.173780Z",
     "shell.execute_reply": "2022-07-29T15:19:14.172797Z"
    }
   },
   "outputs": [
    {
     "data": {
      "text/html": [
       "<style type=\"text/css\">\n",
       "</style>\n",
       "<table id=\"T_f78f0_\">\n",
       "  <caption>Top 10 authors by published papers</caption>\n",
       "  <thead>\n",
       "    <tr>\n",
       "      <th class=\"blank level0\" >&nbsp;</th>\n",
       "      <th class=\"col_heading level0 col0\" >count</th>\n",
       "    </tr>\n",
       "    <tr>\n",
       "      <th class=\"index_name level0\" >author__aid</th>\n",
       "      <th class=\"blank col0\" >&nbsp;</th>\n",
       "    </tr>\n",
       "  </thead>\n",
       "  <tbody>\n",
       "    <tr>\n",
       "      <th id=\"T_f78f0_level0_row0\" class=\"row_heading level0 row0\" >Asongu Simplice</th>\n",
       "      <td id=\"T_f78f0_row0_col0\" class=\"data row0 col0\" >1507</td>\n",
       "    </tr>\n",
       "    <tr>\n",
       "      <th id=\"T_f78f0_level0_row1\" class=\"row_heading level0 row1\" >Fund International Monetary</th>\n",
       "      <td id=\"T_f78f0_row1_col0\" class=\"data row1 col0\" >938</td>\n",
       "    </tr>\n",
       "    <tr>\n",
       "      <th id=\"T_f78f0_level0_row2\" class=\"row_heading level0 row2\" >Bank World</th>\n",
       "      <td id=\"T_f78f0_row2_col0\" class=\"data row2 col0\" >828</td>\n",
       "    </tr>\n",
       "    <tr>\n",
       "      <th id=\"T_f78f0_level0_row3\" class=\"row_heading level0 row3\" >Gupta Rangan</th>\n",
       "      <td id=\"T_f78f0_row3_col0\" class=\"data row3 col0\" >759</td>\n",
       "    </tr>\n",
       "    <tr>\n",
       "      <th id=\"T_f78f0_level0_row4\" class=\"row_heading level0 row4\" >Mcaleer Michael</th>\n",
       "      <td id=\"T_f78f0_row4_col0\" class=\"data row4 col0\" >648</td>\n",
       "    </tr>\n",
       "    <tr>\n",
       "      <th id=\"T_f78f0_level0_row5\" class=\"row_heading level0 row5\" >Oecd</th>\n",
       "      <td id=\"T_f78f0_row5_col0\" class=\"data row5 col0\" >468</td>\n",
       "    </tr>\n",
       "    <tr>\n",
       "      <th id=\"T_f78f0_level0_row6\" class=\"row_heading level0 row6\" >Tol Richard</th>\n",
       "      <td id=\"T_f78f0_row6_col0\" class=\"data row6 col0\" >386</td>\n",
       "    </tr>\n",
       "    <tr>\n",
       "      <th id=\"T_f78f0_level0_row7\" class=\"row_heading level0 row7\" >Odhiambo Nicholas</th>\n",
       "      <td id=\"T_f78f0_row7_col0\" class=\"data row7 col0\" >341</td>\n",
       "    </tr>\n",
       "    <tr>\n",
       "      <th id=\"T_f78f0_level0_row8\" class=\"row_heading level0 row8\" >Van Reenen John</th>\n",
       "      <td id=\"T_f78f0_row8_col0\" class=\"data row8 col0\" >308</td>\n",
       "    </tr>\n",
       "    <tr>\n",
       "      <th id=\"T_f78f0_level0_row9\" class=\"row_heading level0 row9\" >Chang Chia-Lin</th>\n",
       "      <td id=\"T_f78f0_row9_col0\" class=\"data row9 col0\" >306</td>\n",
       "    </tr>\n",
       "  </tbody>\n",
       "</table>\n"
      ],
      "text/plain": [
       "<pandas.io.formats.style.Styler at 0x7f3e6868ac50>"
      ]
     },
     "execution_count": 7,
     "metadata": {},
     "output_type": "execute_result"
    }
   ],
   "source": [
    "(pd.DataFrame(df_pa.groupby('author__aid')\n",
    ".count()\n",
    ".title.sort_values(ascending = False))\n",
    ".rename(columns={'title': 'count'})\n",
    ".head(10)\n",
    ".style.set_caption(\"Top 10 authors by published papers\")\n",
    ")"
   ]
  },
  {
   "cell_type": "code",
   "execution_count": 8,
   "id": "d68653ed",
   "metadata": {
    "execution": {
     "iopub.execute_input": "2022-07-29T15:19:14.177935Z",
     "iopub.status.busy": "2022-07-29T15:19:14.177112Z",
     "iopub.status.idle": "2022-07-29T15:19:15.253102Z",
     "shell.execute_reply": "2022-07-29T15:19:15.252308Z"
    }
   },
   "outputs": [],
   "source": [
    "num_authors = (pd.DataFrame(df_pa.groupby('pid')\n",
    ".count()\n",
    ".title.sort_values(ascending = False))\n",
    ".rename(columns={'title': 'count'})\n",
    ".value_counts()\n",
    ")"
   ]
  },
  {
   "cell_type": "code",
   "execution_count": 9,
   "id": "96f2a2a5",
   "metadata": {
    "execution": {
     "iopub.execute_input": "2022-07-29T15:19:15.257531Z",
     "iopub.status.busy": "2022-07-29T15:19:15.257078Z",
     "iopub.status.idle": "2022-07-29T15:19:15.404199Z",
     "shell.execute_reply": "2022-07-29T15:19:15.403260Z"
    }
   },
   "outputs": [
    {
     "data": {
      "image/png": "[encoded data removed]",
      "text/plain": [
       "<Figure size 864x432 with 1 Axes>"
      ]
     },
     "metadata": {
      "needs_background": "light"
     },
     "output_type": "display_data"
    }
   ],
   "source": [
    "num_top = 5\n",
    "height = list(num_authors[:num_top].values) + [num_authors[num_top:].sum()]\n",
    "bars = list(range(1, num_top + 1)) + [f'>{num_top}']\n",
    "y_pos = range(len(bars))\n",
    "\n",
    "plt.bar(y_pos, height)\n",
    "plt.xticks(y_pos, bars)\n",
    "plt.title(\"Research papers by number of authors\")\n",
    "plt.xlabel(\"Number of authors\")\n",
    "plt.ylabel(\"Count\")\n",
    "plt.show()"
   ]
  },
  {
   "cell_type": "code",
   "execution_count": 10,
   "id": "9a12bb4a",
   "metadata": {
    "execution": {
     "iopub.execute_input": "2022-07-29T15:19:15.408350Z",
     "iopub.status.busy": "2022-07-29T15:19:15.407467Z",
     "iopub.status.idle": "2022-07-29T15:19:15.924427Z",
     "shell.execute_reply": "2022-07-29T15:19:15.923562Z"
    }
   },
   "outputs": [
    {
     "data": {
      "text/html": [
       "<style type=\"text/css\">\n",
       "</style>\n",
       "<table id=\"T_06ba1_\">\n",
       "  <caption>Top 10 authors affilieated with the most institution</caption>\n",
       "  <thead>\n",
       "    <tr>\n",
       "      <th class=\"blank level0\" >&nbsp;</th>\n",
       "      <th class=\"col_heading level0 col0\" >institution</th>\n",
       "    </tr>\n",
       "    <tr>\n",
       "      <th class=\"index_name level0\" >author__aid</th>\n",
       "      <th class=\"blank col0\" >&nbsp;</th>\n",
       "    </tr>\n",
       "  </thead>\n",
       "  <tbody>\n",
       "    <tr>\n",
       "      <th id=\"T_06ba1_level0_row0\" class=\"row_heading level0 row0\" >Ongena Steven</th>\n",
       "      <td id=\"T_06ba1_row0_col0\" class=\"data row0 col0\" >47</td>\n",
       "    </tr>\n",
       "    <tr>\n",
       "      <th id=\"T_06ba1_level0_row1\" class=\"row_heading level0 row1\" >Peri Giovanni</th>\n",
       "      <td id=\"T_06ba1_row1_col0\" class=\"data row1 col0\" >40</td>\n",
       "    </tr>\n",
       "    <tr>\n",
       "      <th id=\"T_06ba1_level0_row2\" class=\"row_heading level0 row2\" >Eichengreen Barry</th>\n",
       "      <td id=\"T_06ba1_row2_col0\" class=\"data row2 col0\" >39</td>\n",
       "    </tr>\n",
       "    <tr>\n",
       "      <th id=\"T_06ba1_level0_row3\" class=\"row_heading level0 row3\" >Ottaviano Gianmarco</th>\n",
       "      <td id=\"T_06ba1_row3_col0\" class=\"data row3 col0\" >39</td>\n",
       "    </tr>\n",
       "    <tr>\n",
       "      <th id=\"T_06ba1_level0_row4\" class=\"row_heading level0 row4\" >Devereux Michael</th>\n",
       "      <td id=\"T_06ba1_row4_col0\" class=\"data row4 col0\" >39</td>\n",
       "    </tr>\n",
       "    <tr>\n",
       "      <th id=\"T_06ba1_level0_row5\" class=\"row_heading level0 row5\" >Clark Andrew</th>\n",
       "      <td id=\"T_06ba1_row5_col0\" class=\"data row5 col0\" >37</td>\n",
       "    </tr>\n",
       "    <tr>\n",
       "      <th id=\"T_06ba1_level0_row6\" class=\"row_heading level0 row6\" >Verdier Thierry</th>\n",
       "      <td id=\"T_06ba1_row6_col0\" class=\"data row6 col0\" >37</td>\n",
       "    </tr>\n",
       "    <tr>\n",
       "      <th id=\"T_06ba1_level0_row7\" class=\"row_heading level0 row7\" >Pesaran M</th>\n",
       "      <td id=\"T_06ba1_row7_col0\" class=\"data row7 col0\" >37</td>\n",
       "    </tr>\n",
       "    <tr>\n",
       "      <th id=\"T_06ba1_level0_row8\" class=\"row_heading level0 row8\" >Cabrales Antonio</th>\n",
       "      <td id=\"T_06ba1_row8_col0\" class=\"data row8 col0\" >36</td>\n",
       "    </tr>\n",
       "    <tr>\n",
       "      <th id=\"T_06ba1_level0_row9\" class=\"row_heading level0 row9\" >Spagnolo Giancarlo</th>\n",
       "      <td id=\"T_06ba1_row9_col0\" class=\"data row9 col0\" >35</td>\n",
       "    </tr>\n",
       "  </tbody>\n",
       "</table>\n"
      ],
      "text/plain": [
       "<pandas.io.formats.style.Styler at 0x7f3e684efeb0>"
      ]
     },
     "execution_count": 10,
     "metadata": {},
     "output_type": "execute_result"
    }
   ],
   "source": [
    "pd.DataFrame(df_pa.groupby('author__aid')\n",
    ".institution\n",
    ".nunique()\n",
    ".sort_values(ascending = False)\n",
    ".head(10)\n",
    ").style.set_caption('Top 10 authors affilieated with the most institution')"
   ]
  }
 ],
 "metadata": {
  "interpreter": {
   "hash": "64878fe84c8d43d7501c7cf6e04817e42f7fe76450da501dadd076b66cecf21e"
  },
  "kernelspec": {
   "display_name": "Python 3.10.4 64-bit",
   "language": "python",
   "name": "python3"
  },
  "language_info": {
   "codemirror_mode": {
    "name": "ipython",
    "version": 3
   },
   "file_extension": ".py",
   "mimetype": "text/x-python",
   "name": "python",
   "nbconvert_exporter": "python",
   "pygments_lexer": "ipython3",
   "version": "3.10.5"
  }
 },
 "nbformat": 4,
 "nbformat_minor": 5
}