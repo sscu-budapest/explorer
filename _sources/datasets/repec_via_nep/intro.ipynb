{
 "cells": [
  {
   "cell_type": "markdown",
   "id": "greater-sweden",
   "metadata": {},
   "source": [
    "# Check Head"
   ]
  },
  {
   "cell_type": "code",
   "execution_count": 1,
   "id": "weighted-boost",
   "metadata": {
    "execution": {
     "iopub.execute_input": "2022-05-27T15:17:19.486297Z",
     "iopub.status.busy": "2022-05-27T15:17:19.485964Z",
     "iopub.status.idle": "2022-05-27T15:17:19.821028Z",
     "shell.execute_reply": "2022-05-27T15:17:19.819984Z"
    }
   },
   "outputs": [],
   "source": [
    "import pandas as pd"
   ]
  },
  {
   "cell_type": "code",
   "execution_count": 2,
   "id": "liberal-paper",
   "metadata": {
    "execution": {
     "iopub.execute_input": "2022-05-27T15:17:19.825542Z",
     "iopub.status.busy": "2022-05-27T15:17:19.825189Z",
     "iopub.status.idle": "2022-05-27T15:17:23.961563Z",
     "shell.execute_reply": "2022-05-27T15:17:23.960645Z"
    }
   },
   "outputs": [
    {
     "name": "stderr",
     "output_type": "stream",
     "text": [
      "/opt/hostedtoolcache/Python/3.10.4/x64/lib/python3.10/site-packages/IPython/core/interactiveshell.py:3397: DtypeWarning: Columns (1,2,3,4) have mixed types.Specify dtype option on import or set low_memory=False.\n",
      "  exec(code_obj, self.user_global_ns, self.user_ns)\n"
     ]
    }
   ],
   "source": [
    "df_paper = pd.read_csv(\"paper.csv\")\n",
    "df_nep = pd.read_csv(\"nep.csv\")\n",
    "df_nep_inclusion = pd.read_csv(\"nep_inclusion.csv\")\n",
    "df_nep_issue = pd.read_csv(\"nep_issue.csv\")\n",
    "df_authorship = pd.read_csv(\"authorship.csv\")"
   ]
  }
 ],
 "metadata": {
  "kernelspec": {
   "display_name": "Python 3",
   "language": "python",
   "name": "python3"
  },
  "language_info": {
   "codemirror_mode": {
    "name": "ipython",
    "version": 3
   },
   "file_extension": ".py",
   "mimetype": "text/x-python",
   "name": "python",
   "nbconvert_exporter": "python",
   "pygments_lexer": "ipython3",
   "version": "3.10.4"
  }
 },
 "nbformat": 4,
 "nbformat_minor": 5
}