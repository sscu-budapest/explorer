{
 "cells": [
  {
   "cell_type": "markdown",
   "id": "a8cfd6c4",
   "metadata": {},
   "source": [
    "# Explore Waves and Conditions"
   ]
  },
  {
   "cell_type": "code",
   "execution_count": 1,
   "id": "regular-screen",
   "metadata": {
    "execution": {
     "iopub.execute_input": "2023-01-11T15:24:13.747111Z",
     "iopub.status.busy": "2023-01-11T15:24:13.745300Z",
     "iopub.status.idle": "2023-01-11T15:24:14.766596Z",
     "shell.execute_reply": "2023-01-11T15:24:14.765647Z"
    }
   },
   "outputs": [],
   "source": [
    "import numpy as np\n",
    "import pandas as pd\n",
    "import matplotlib.pyplot as plt\n",
    "import seaborn as sns"
   ]
  },
  {
   "cell_type": "code",
   "execution_count": 2,
   "id": "human-accommodation",
   "metadata": {
    "execution": {
     "iopub.execute_input": "2023-01-11T15:24:14.771342Z",
     "iopub.status.busy": "2023-01-11T15:24:14.770961Z",
     "iopub.status.idle": "2023-01-11T15:24:14.776513Z",
     "shell.execute_reply": "2023-01-11T15:24:14.774915Z"
    }
   },
   "outputs": [],
   "source": [
    "plt.rcParams[\"figure.figsize\"] = (14, 7)"
   ]
  },
  {
   "cell_type": "code",
   "execution_count": 3,
   "id": "b3a26a4f",
   "metadata": {
    "execution": {
     "iopub.execute_input": "2023-01-11T15:24:14.779399Z",
     "iopub.status.busy": "2023-01-11T15:24:14.779128Z",
     "iopub.status.idle": "2023-01-11T15:24:14.788797Z",
     "shell.execute_reply": "2023-01-11T15:24:14.788173Z"
    }
   },
   "outputs": [],
   "source": [
    "df = pd.read_csv(\"covid_victim.csv\").assign(is_70_plus=lambda df: df[\"age\"] >= 70)"
   ]
  },
  {
   "cell_type": "code",
   "execution_count": 4,
   "id": "tired-republican",
   "metadata": {
    "execution": {
     "iopub.execute_input": "2023-01-11T15:24:14.792080Z",
     "iopub.status.busy": "2023-01-11T15:24:14.791633Z",
     "iopub.status.idle": "2023-01-11T15:24:14.795442Z",
     "shell.execute_reply": "2023-01-11T15:24:14.794757Z"
    }
   },
   "outputs": [],
   "source": [
    "cond_cols = df.columns[df.columns.str.startswith(\"condition\")]"
   ]
  },
  {
   "cell_type": "code",
   "execution_count": 5,
   "id": "failing-screw",
   "metadata": {
    "execution": {
     "iopub.execute_input": "2023-01-11T15:24:14.798500Z",
     "iopub.status.busy": "2023-01-11T15:24:14.798098Z",
     "iopub.status.idle": "2023-01-11T15:24:14.801938Z",
     "shell.execute_reply": "2023-01-11T15:24:14.801184Z"
    }
   },
   "outputs": [],
   "source": [
    "mean_cols = [\n",
    "    \"positive_rate\",\n",
    "    \"total_vaccinations\",\n",
    "    \"people_vaccinated\",\n",
    "    \"people_fully_vaccinated\",\n",
    "    \"total_boosters\",\n",
    "]\n",
    "sum_cols = [*cond_cols, \"is_70_plus\", \"is_male\"]\n",
    "aggs = {\n",
    "    **{c: \"sum\" for c in sum_cols},\n",
    "    **{c: \"mean\" for c in mean_cols},\n",
    "    \"count\": \"sum\",\n",
    "}"
   ]
  },
  {
   "cell_type": "code",
   "execution_count": 6,
   "id": "equipped-bouquet",
   "metadata": {
    "execution": {
     "iopub.execute_input": "2023-01-11T15:24:14.805248Z",
     "iopub.status.busy": "2023-01-11T15:24:14.804674Z",
     "iopub.status.idle": "2023-01-11T15:24:15.027017Z",
     "shell.execute_reply": "2023-01-11T15:24:15.025738Z"
    }
   },
   "outputs": [
    {
     "data": {
      "image/png": "[encoded data removed]",
      "text/plain": [
       "<Figure size 1400x700 with 1 Axes>"
      ]
     },
     "metadata": {},
     "output_type": "display_data"
    }
   ],
   "source": [
    "MIN_ASC = 30\n",
    "\n",
    "\n",
    "def get_wave_n(df):\n",
    "    wave_ascents = df.groupby(\"stage\")[\"climb\"].mean().loc[lambda s: s > 40].index\n",
    "    _dic = {a: i + 1 for i, a in enumerate(wave_ascents)}\n",
    "    wave_dic = {**_dic, **{k + 1: v for k, v in _dic.items()}}\n",
    "    subseq_waves = pd.Series([wave_dic.get(e, 0) for e in df[\"stage\"]], index=df.index)\n",
    "    return np.where(\n",
    "        df[\"climb\"].abs().rolling(4).mean() > (MIN_ASC / 2), subseq_waves, 0\n",
    "    ).astype(str)\n",
    "\n",
    "\n",
    "weekly_wave_df = (\n",
    "    df.assign(count=1, pdate=pd.to_datetime(df[\"estimated_date\"]))\n",
    "    .groupby(\"pdate\")\n",
    "    .agg(aggs)\n",
    "    .resample(\"1W\")\n",
    "    .agg(aggs)\n",
    "    .assign(\n",
    "        climb=lambda df: df[\"count\"].diff(),\n",
    "        stage=lambda df: (df[\"climb\"] > MIN_ASC)\n",
    "        .diff()\n",
    "        .pipe(lambda s: s & (s != s.shift(1)) & (s != s.shift(2)))\n",
    "        .fillna(0)\n",
    "        .astype(int)\n",
    "        .cumsum(),\n",
    "        wave=get_wave_n,\n",
    "        wave_stage=lambda df: np.where(\n",
    "            df.groupby(\"stage\")[\"climb\"].transform(\"mean\") > 0, \"ascent\", \"descent\"\n",
    "        ),\n",
    "    )\n",
    "    .loc[lambda df: df[\"wave\"] != \"0\"]\n",
    ")\n",
    "\n",
    "ax = weekly_wave_df.reset_index().pipe(\n",
    "    lambda df: sns.lineplot(\n",
    "        x=\"pdate\", y=\"count\", hue=\"wave\", style=\"wave_stage\", data=df\n",
    "    )\n",
    ")\n",
    "plt.title(\"Number of deaths caused by COVID in Hungary\")\n",
    "plt.xlabel(\"Date\")\n",
    "plt.xticks(rotation = 35)\n",
    "plt.ylabel(\"Number of deaths\")\n",
    "plt.show()"
   ]
  },
  {
   "cell_type": "code",
   "execution_count": 7,
   "id": "imposed-swaziland",
   "metadata": {
    "execution": {
     "iopub.execute_input": "2023-01-11T15:24:15.030861Z",
     "iopub.status.busy": "2023-01-11T15:24:15.030339Z",
     "iopub.status.idle": "2023-01-11T15:24:15.037727Z",
     "shell.execute_reply": "2023-01-11T15:24:15.036991Z"
    }
   },
   "outputs": [],
   "source": [
    "changes = (\n",
    "    weekly_wave_df.loc[:, [\"count\", *sum_cols]]\n",
    "    .pipe(lambda df: 2 * df.diff() / (df + df.shift()))\n",
    "    .fillna(0)\n",
    "    .pipe(lambda df: df - df[[\"count\"]].values)\n",
    "    .drop(\"count\", axis=1)\n",
    ")"
   ]
  },
  {
   "cell_type": "code",
   "execution_count": 8,
   "id": "7ae57145",
   "metadata": {
    "execution": {
     "iopub.execute_input": "2023-01-11T15:24:15.040940Z",
     "iopub.status.busy": "2023-01-11T15:24:15.040485Z",
     "iopub.status.idle": "2023-01-11T15:24:15.126876Z",
     "shell.execute_reply": "2023-01-11T15:24:15.125813Z"
    }
   },
   "outputs": [
    {
     "data": {
      "text/html": [
       "<style type=\"text/css\">\n",
       "</style>\n",
       "<table id=\"T_fc9c5\">\n",
       "  <caption>Growth of conditions compared to the growth of deceased people (%)</caption>\n",
       "  <thead>\n",
       "    <tr>\n",
       "      <th class=\"index_name level0\" >wave</th>\n",
       "      <th class=\"index_name level1\" >wave_stage</th>\n",
       "    </tr>\n",
       "  </thead>\n",
       "  <tbody>\n",
       "  </tbody>\n",
       "</table>\n"
      ],
      "text/plain": [
       "<pandas.io.formats.style.Styler at 0x7f69f65d6c50>"
      ]
     },
     "execution_count": 8,
     "metadata": {},
     "output_type": "execute_result"
    }
   ],
   "source": [
    "(\n",
    "    pd.concat([changes, weekly_wave_df[[\"wave\", \"wave_stage\"]]], axis=1)\n",
    "    .pivot_table(index=[\"wave\", \"wave_stage\"], values=sum_cols)\n",
    "    .rename(columns=lambda s: s.replace(\"condition__\", \"\"))\n",
    "    .style.background_gradient(\n",
    "        axis=None,\n",
    "        vmin=-0.1,\n",
    "        vmax=0.1,\n",
    "        cmap=sns.diverging_palette(\n",
    "            220,\n",
    "            20,\n",
    "            as_cmap=True,\n",
    "        ),\n",
    "    )\n",
    "    .set_caption(\"Growth of conditions compared to the growth of deceased people (%)\")\n",
    ")"
   ]
  },
  {
   "cell_type": "code",
   "execution_count": 9,
   "id": "standing-fisher",
   "metadata": {
    "execution": {
     "iopub.execute_input": "2023-01-11T15:24:15.133239Z",
     "iopub.status.busy": "2023-01-11T15:24:15.132486Z",
     "iopub.status.idle": "2023-01-11T15:24:15.303796Z",
     "shell.execute_reply": "2023-01-11T15:24:15.303037Z"
    }
   },
   "outputs": [
    {
     "data": {
      "image/png": "[encoded data removed]",
      "text/plain": [
       "<Figure size 1400x700 with 1 Axes>"
      ]
     },
     "metadata": {},
     "output_type": "display_data"
    }
   ],
   "source": [
    "ax = weekly_wave_df.loc[\n",
    "    :,\n",
    "    [\n",
    "        \"count\",\n",
    "        \"condition__obesity\",\n",
    "        \"condition__blood_pressure\",\n",
    "        \"people_fully_vaccinated\",\n",
    "    ],\n",
    "].pipe(lambda df: df / df.max()).melt(ignore_index=False).reset_index().pipe(\n",
    "    lambda df: sns.lineplot(x=\"pdate\", y=\"value\", hue=\"variable\", data=df)\n",
    ")\n",
    "\n",
    "plt.title(\"Selected variables weekly values compared to their peak values\")\n",
    "plt.xlabel(\"Date\")\n",
    "plt.xticks(rotation = 35)\n",
    "plt.ylabel(\"%\", rotation = 180)\n",
    "plt.show()"
   ]
  },
  {
   "cell_type": "code",
   "execution_count": 10,
   "id": "chinese-heath",
   "metadata": {
    "execution": {
     "iopub.execute_input": "2023-01-11T15:24:15.307520Z",
     "iopub.status.busy": "2023-01-11T15:24:15.307253Z",
     "iopub.status.idle": "2023-01-11T15:24:15.315075Z",
     "shell.execute_reply": "2023-01-11T15:24:15.314367Z"
    },
    "scrolled": true
   },
   "outputs": [],
   "source": [
    "condition_counts = (\n",
    "    pd.DataFrame(df[\"raw_conditions\"].str.split(\", \").tolist())\n",
    "    .unstack()\n",
    "    .dropna()\n",
    "    .value_counts()\n",
    ")"
   ]
  },
  {
   "cell_type": "code",
   "execution_count": 11,
   "id": "similar-yukon",
   "metadata": {
    "execution": {
     "iopub.execute_input": "2023-01-11T15:24:15.318465Z",
     "iopub.status.busy": "2023-01-11T15:24:15.318221Z",
     "iopub.status.idle": "2023-01-11T15:24:15.328678Z",
     "shell.execute_reply": "2023-01-11T15:24:15.327241Z"
    }
   },
   "outputs": [
    {
     "data": {
      "text/html": [
       "<style type=\"text/css\">\n",
       "</style>\n",
       "<table id=\"T_811c1\">\n",
       "  <caption>Top 20 conditions recorded for the deceased</caption>\n",
       "  <thead>\n",
       "    <tr>\n",
       "      <th class=\"blank level0\" >&nbsp;</th>\n",
       "      <th id=\"T_811c1_level0_col0\" class=\"col_heading level0 col0\" >Count</th>\n",
       "    </tr>\n",
       "    <tr>\n",
       "      <th class=\"index_name level0\" >Conditions</th>\n",
       "      <th class=\"blank col0\" >&nbsp;</th>\n",
       "    </tr>\n",
       "  </thead>\n",
       "  <tbody>\n",
       "    <tr>\n",
       "      <th id=\"T_811c1_level0_row0\" class=\"row_heading level0 row0\" >magasvérnyomás-betegség</th>\n",
       "      <td id=\"T_811c1_row0_col0\" class=\"data row0 col0\" >32</td>\n",
       "    </tr>\n",
       "    <tr>\n",
       "      <th id=\"T_811c1_level0_row1\" class=\"row_heading level0 row1\" >cukorbetegség</th>\n",
       "      <td id=\"T_811c1_row1_col0\" class=\"data row1 col0\" >12</td>\n",
       "    </tr>\n",
       "    <tr>\n",
       "      <th id=\"T_811c1_level0_row2\" class=\"row_heading level0 row2\" >iszkémiás szívbetegség</th>\n",
       "      <td id=\"T_811c1_row2_col0\" class=\"data row2 col0\" >10</td>\n",
       "    </tr>\n",
       "    <tr>\n",
       "      <th id=\"T_811c1_level0_row3\" class=\"row_heading level0 row3\" >krónikus veseelégtelenség</th>\n",
       "      <td id=\"T_811c1_row3_col0\" class=\"data row3 col0\" >4</td>\n",
       "    </tr>\n",
       "    <tr>\n",
       "      <th id=\"T_811c1_level0_row4\" class=\"row_heading level0 row4\" >demencia</th>\n",
       "      <td id=\"T_811c1_row4_col0\" class=\"data row4 col0\" >4</td>\n",
       "    </tr>\n",
       "    <tr>\n",
       "      <th id=\"T_811c1_level0_row5\" class=\"row_heading level0 row5\" >parkinson-kór</th>\n",
       "      <td id=\"T_811c1_row5_col0\" class=\"data row5 col0\" >3</td>\n",
       "    </tr>\n",
       "    <tr>\n",
       "      <th id=\"T_811c1_level0_row6\" class=\"row_heading level0 row6\" >daganatos megbetegedés</th>\n",
       "      <td id=\"T_811c1_row6_col0\" class=\"data row6 col0\" >3</td>\n",
       "    </tr>\n",
       "    <tr>\n",
       "      <th id=\"T_811c1_level0_row7\" class=\"row_heading level0 row7\" >májbetegség</th>\n",
       "      <td id=\"T_811c1_row7_col0\" class=\"data row7 col0\" >3</td>\n",
       "    </tr>\n",
       "    <tr>\n",
       "      <th id=\"T_811c1_level0_row8\" class=\"row_heading level0 row8\" >agyi mûködés zavara</th>\n",
       "      <td id=\"T_811c1_row8_col0\" class=\"data row8 col0\" >3</td>\n",
       "    </tr>\n",
       "    <tr>\n",
       "      <th id=\"T_811c1_level0_row9\" class=\"row_heading level0 row9\" >szívelégtelenség</th>\n",
       "      <td id=\"T_811c1_row9_col0\" class=\"data row9 col0\" >2</td>\n",
       "    </tr>\n",
       "    <tr>\n",
       "      <th id=\"T_811c1_level0_row10\" class=\"row_heading level0 row10\" >veseelégtelenség</th>\n",
       "      <td id=\"T_811c1_row10_col0\" class=\"data row10 col0\" >2</td>\n",
       "    </tr>\n",
       "    <tr>\n",
       "      <th id=\"T_811c1_level0_row11\" class=\"row_heading level0 row11\" >csontritkulás</th>\n",
       "      <td id=\"T_811c1_row11_col0\" class=\"data row11 col0\" >2</td>\n",
       "    </tr>\n",
       "    <tr>\n",
       "      <th id=\"T_811c1_level0_row12\" class=\"row_heading level0 row12\" >krónikus obstruktív tüdőbetegség</th>\n",
       "      <td id=\"T_811c1_row12_col0\" class=\"data row12 col0\" >2</td>\n",
       "    </tr>\n",
       "    <tr>\n",
       "      <th id=\"T_811c1_level0_row13\" class=\"row_heading level0 row13\" >depresszió</th>\n",
       "      <td id=\"T_811c1_row13_col0\" class=\"data row13 col0\" >2</td>\n",
       "    </tr>\n",
       "    <tr>\n",
       "      <th id=\"T_811c1_level0_row14\" class=\"row_heading level0 row14\" >leukémia</th>\n",
       "      <td id=\"T_811c1_row14_col0\" class=\"data row14 col0\" >2</td>\n",
       "    </tr>\n",
       "    <tr>\n",
       "      <th id=\"T_811c1_level0_row15\" class=\"row_heading level0 row15\" >vérszegénység</th>\n",
       "      <td id=\"T_811c1_row15_col0\" class=\"data row15 col0\" >2</td>\n",
       "    </tr>\n",
       "    <tr>\n",
       "      <th id=\"T_811c1_level0_row16\" class=\"row_heading level0 row16\" >tüdő rosszindulatú daganata</th>\n",
       "      <td id=\"T_811c1_row16_col0\" class=\"data row16 col0\" >2</td>\n",
       "    </tr>\n",
       "    <tr>\n",
       "      <th id=\"T_811c1_level0_row17\" class=\"row_heading level0 row17\" >érelmeszesedés</th>\n",
       "      <td id=\"T_811c1_row17_col0\" class=\"data row17 col0\" >2</td>\n",
       "    </tr>\n",
       "    <tr>\n",
       "      <th id=\"T_811c1_level0_row18\" class=\"row_heading level0 row18\" >nem ismert alapbetegség</th>\n",
       "      <td id=\"T_811c1_row18_col0\" class=\"data row18 col0\" >1</td>\n",
       "    </tr>\n",
       "    <tr>\n",
       "      <th id=\"T_811c1_level0_row19\" class=\"row_heading level0 row19\" >érszûkület</th>\n",
       "      <td id=\"T_811c1_row19_col0\" class=\"data row19 col0\" >1</td>\n",
       "    </tr>\n",
       "  </tbody>\n",
       "</table>\n"
      ],
      "text/plain": [
       "<pandas.io.formats.style.Styler at 0x7f69f663a500>"
      ]
     },
     "execution_count": 11,
     "metadata": {},
     "output_type": "execute_result"
    }
   ],
   "source": [
    "df_contition_counts = pd.DataFrame(condition_counts.head(20), columns = ['Count'])\n",
    "df_contition_counts.index.name= 'Conditions'\n",
    "df_contition_counts.style.set_caption(\"Top 20 conditions recorded for the deceased\")"
   ]
  }
 ],
 "metadata": {
  "interpreter": {
   "hash": "64878fe84c8d43d7501c7cf6e04817e42f7fe76450da501dadd076b66cecf21e"
  },
  "kernelspec": {
   "display_name": "Python 3.10.4 64-bit",
   "language": "python",
   "name": "python3"
  },
  "language_info": {
   "codemirror_mode": {
    "name": "ipython",
    "version": 3
   },
   "file_extension": ".py",
   "mimetype": "text/x-python",
   "name": "python",
   "nbconvert_exporter": "python",
   "pygments_lexer": "ipython3",
   "version": "3.10.9"
  }
 },
 "nbformat": 4,
 "nbformat_minor": 5
}